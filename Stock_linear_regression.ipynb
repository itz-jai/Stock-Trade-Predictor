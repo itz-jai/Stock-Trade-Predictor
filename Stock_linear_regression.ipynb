{
  "nbformat": 4,
  "nbformat_minor": 0,
  "metadata": {
    "colab": {
      "name": "Stock linear regression.ipynb",
      "provenance": [],
      "collapsed_sections": [],
      "include_colab_link": true
    },
    "kernelspec": {
      "name": "python3",
      "display_name": "Python 3"
    }
  },
  "cells": [
    {
      "cell_type": "markdown",
      "metadata": {
        "id": "view-in-github",
        "colab_type": "text"
      },
      "source": [
        "<a href=\"https://colab.research.google.com/github/itz-jai/Stock-Trade-Predictor/blob/main/Stock_linear_regression.ipynb\" target=\"_parent\"><img src=\"https://colab.research.google.com/assets/colab-badge.svg\" alt=\"Open In Colab\"/></a>"
      ]
    },
    {
      "cell_type": "code",
      "metadata": {
        "id": "TlX__DTr5Axn"
      },
      "source": [
        "#Import the libraries\n",
        "import math\n",
        "import pandas_datareader as web\n",
        "import numpy as np\n",
        "import pandas as pd\n",
        "from sklearn.preprocessing import MinMaxScaler\n",
        "import matplotlib.pyplot as plt\n",
        "plt.style.use('fivethirtyeight')"
      ],
      "execution_count": null,
      "outputs": []
    },
    {
      "cell_type": "code",
      "metadata": {
        "id": "VyhUiOi6Lnc8",
        "colab": {
          "base_uri": "https://localhost:8080/",
          "height": 431
        },
        "outputId": "8e4cab43-610f-48b3-c16a-f345bf344d84"
      },
      "source": [
        "#Get the stock quote \n",
        "df = web.DataReader('^NSEI', data_source='yahoo', start='2000-04-28', end='2020-07-15') \n",
        "#Show the data \n",
        "df"
      ],
      "execution_count": null,
      "outputs": [
        {
          "output_type": "execute_result",
          "data": {
            "text/html": [
              "<div>\n",
              "<style scoped>\n",
              "    .dataframe tbody tr th:only-of-type {\n",
              "        vertical-align: middle;\n",
              "    }\n",
              "\n",
              "    .dataframe tbody tr th {\n",
              "        vertical-align: top;\n",
              "    }\n",
              "\n",
              "    .dataframe thead th {\n",
              "        text-align: right;\n",
              "    }\n",
              "</style>\n",
              "<table border=\"1\" class=\"dataframe\">\n",
              "  <thead>\n",
              "    <tr style=\"text-align: right;\">\n",
              "      <th></th>\n",
              "      <th>High</th>\n",
              "      <th>Low</th>\n",
              "      <th>Open</th>\n",
              "      <th>Close</th>\n",
              "      <th>Volume</th>\n",
              "      <th>Adj Close</th>\n",
              "    </tr>\n",
              "    <tr>\n",
              "      <th>Date</th>\n",
              "      <th></th>\n",
              "      <th></th>\n",
              "      <th></th>\n",
              "      <th></th>\n",
              "      <th></th>\n",
              "      <th></th>\n",
              "    </tr>\n",
              "  </thead>\n",
              "  <tbody>\n",
              "    <tr>\n",
              "      <th>2007-09-17</th>\n",
              "      <td>4549.049805</td>\n",
              "      <td>4482.850098</td>\n",
              "      <td>4518.450195</td>\n",
              "      <td>4494.649902</td>\n",
              "      <td>0.0</td>\n",
              "      <td>4494.649902</td>\n",
              "    </tr>\n",
              "    <tr>\n",
              "      <th>2007-09-18</th>\n",
              "      <td>4551.799805</td>\n",
              "      <td>4481.549805</td>\n",
              "      <td>4494.100098</td>\n",
              "      <td>4546.200195</td>\n",
              "      <td>0.0</td>\n",
              "      <td>4546.200195</td>\n",
              "    </tr>\n",
              "    <tr>\n",
              "      <th>2007-09-19</th>\n",
              "      <td>4739.000000</td>\n",
              "      <td>4550.250000</td>\n",
              "      <td>4550.250000</td>\n",
              "      <td>4732.350098</td>\n",
              "      <td>0.0</td>\n",
              "      <td>4732.350098</td>\n",
              "    </tr>\n",
              "    <tr>\n",
              "      <th>2007-09-20</th>\n",
              "      <td>4760.850098</td>\n",
              "      <td>4721.149902</td>\n",
              "      <td>4734.850098</td>\n",
              "      <td>4747.549805</td>\n",
              "      <td>0.0</td>\n",
              "      <td>4747.549805</td>\n",
              "    </tr>\n",
              "    <tr>\n",
              "      <th>2007-09-21</th>\n",
              "      <td>4855.700195</td>\n",
              "      <td>4733.700195</td>\n",
              "      <td>4752.950195</td>\n",
              "      <td>4837.549805</td>\n",
              "      <td>0.0</td>\n",
              "      <td>4837.549805</td>\n",
              "    </tr>\n",
              "    <tr>\n",
              "      <th>...</th>\n",
              "      <td>...</td>\n",
              "      <td>...</td>\n",
              "      <td>...</td>\n",
              "      <td>...</td>\n",
              "      <td>...</td>\n",
              "      <td>...</td>\n",
              "    </tr>\n",
              "    <tr>\n",
              "      <th>2020-07-10</th>\n",
              "      <td>10819.400391</td>\n",
              "      <td>10713.000000</td>\n",
              "      <td>10764.099609</td>\n",
              "      <td>10768.049805</td>\n",
              "      <td>590700.0</td>\n",
              "      <td>10768.049805</td>\n",
              "    </tr>\n",
              "    <tr>\n",
              "      <th>2020-07-13</th>\n",
              "      <td>10894.049805</td>\n",
              "      <td>10756.049805</td>\n",
              "      <td>10851.849609</td>\n",
              "      <td>10802.700195</td>\n",
              "      <td>554100.0</td>\n",
              "      <td>10802.700195</td>\n",
              "    </tr>\n",
              "    <tr>\n",
              "      <th>2020-07-14</th>\n",
              "      <td>10755.650391</td>\n",
              "      <td>10562.900391</td>\n",
              "      <td>10750.849609</td>\n",
              "      <td>10607.349609</td>\n",
              "      <td>532400.0</td>\n",
              "      <td>10607.349609</td>\n",
              "    </tr>\n",
              "    <tr>\n",
              "      <th>2020-07-15</th>\n",
              "      <td>10827.450195</td>\n",
              "      <td>10577.750000</td>\n",
              "      <td>10701.000000</td>\n",
              "      <td>10618.200195</td>\n",
              "      <td>715900.0</td>\n",
              "      <td>10618.200195</td>\n",
              "    </tr>\n",
              "    <tr>\n",
              "      <th>2020-07-16</th>\n",
              "      <td>10755.299805</td>\n",
              "      <td>10595.200195</td>\n",
              "      <td>10706.200195</td>\n",
              "      <td>10739.950195</td>\n",
              "      <td>694400.0</td>\n",
              "      <td>10739.950195</td>\n",
              "    </tr>\n",
              "  </tbody>\n",
              "</table>\n",
              "<p>3132 rows × 6 columns</p>\n",
              "</div>"
            ],
            "text/plain": [
              "                    High           Low  ...    Volume     Adj Close\n",
              "Date                                    ...                        \n",
              "2007-09-17   4549.049805   4482.850098  ...       0.0   4494.649902\n",
              "2007-09-18   4551.799805   4481.549805  ...       0.0   4546.200195\n",
              "2007-09-19   4739.000000   4550.250000  ...       0.0   4732.350098\n",
              "2007-09-20   4760.850098   4721.149902  ...       0.0   4747.549805\n",
              "2007-09-21   4855.700195   4733.700195  ...       0.0   4837.549805\n",
              "...                  ...           ...  ...       ...           ...\n",
              "2020-07-10  10819.400391  10713.000000  ...  590700.0  10768.049805\n",
              "2020-07-13  10894.049805  10756.049805  ...  554100.0  10802.700195\n",
              "2020-07-14  10755.650391  10562.900391  ...  532400.0  10607.349609\n",
              "2020-07-15  10827.450195  10577.750000  ...  715900.0  10618.200195\n",
              "2020-07-16  10755.299805  10595.200195  ...  694400.0  10739.950195\n",
              "\n",
              "[3132 rows x 6 columns]"
            ]
          },
          "metadata": {
            "tags": []
          },
          "execution_count": 63
        }
      ]
    },
    {
      "cell_type": "code",
      "metadata": {
        "id": "ielGrtDZLqZd",
        "colab": {
          "base_uri": "https://localhost:8080/",
          "height": 558
        },
        "outputId": "fbbb6a10-c535-4672-dbf3-35a574c9a997"
      },
      "source": [
        "#Visualize the closing price history\n",
        "plt.figure(figsize=(16,8))\n",
        "plt.title('Close Price History')\n",
        "plt.plot(df['Close'])\n",
        "plt.xlabel('Date',fontsize=18)\n",
        "plt.ylabel('Close Price INR ',fontsize=18)\n",
        "plt.show()"
      ],
      "execution_count": null,
      "outputs": [
        {
          "output_type": "display_data",
          "data": {
            "image/png": "[encoded data removed]",
            "text/plain": [
              "<Figure size 1152x576 with 1 Axes>"
            ]
          },
          "metadata": {
            "tags": []
          }
        }
      ]
    },
    {
      "cell_type": "code",
      "metadata": {
        "id": "BDsMFHYGPD4x",
        "colab": {
          "base_uri": "https://localhost:8080/",
          "height": 34
        },
        "outputId": "9132414c-8e0c-470f-f012-f52e0dac045d"
      },
      "source": [
        "#Create a new dataframe with only the 'Close' column\n",
        "data = df.filter(['Close'])\n",
        "#Converting the dataframe to a numpy array\n",
        "dataset = data.values\n",
        "#Get /Compute the number of rows to train the model on\n",
        "training_data_len = math.ceil( len(dataset) *.8) \n",
        "training_data_len"
      ],
      "execution_count": null,
      "outputs": [
        {
          "output_type": "execute_result",
          "data": {
            "text/plain": [
              "2506"
            ]
          },
          "metadata": {
            "tags": []
          },
          "execution_count": 65
        }
      ]
    },
    {
      "cell_type": "code",
      "metadata": {
        "id": "hOboRPjqPFsi",
        "colab": {
          "base_uri": "https://localhost:8080/",
          "height": 134
        },
        "outputId": "bc6a33e6-db82-4d85-beef-cfdb8a019eb4"
      },
      "source": [
        "#Scale the all of the data to be values between 0 and 1 \n",
        "scaler = MinMaxScaler(feature_range=(0, 1)) \n",
        "scaled_data = scaler.fit_transform(dataset)\n",
        "scaled_data"
      ],
      "execution_count": null,
      "outputs": [
        {
          "output_type": "execute_result",
          "data": {
            "text/plain": [
              "array([[0.20028766],\n",
              "       [0.20552752],\n",
              "       [0.22444884],\n",
              "       ...,\n",
              "       [0.82161696],\n",
              "       [0.82271987],\n",
              "       [0.83509523]])"
            ]
          },
          "metadata": {
            "tags": []
          },
          "execution_count": 66
        }
      ]
    },
    {
      "cell_type": "code",
      "metadata": {
        "id": "cXGNBwS9YZM8",
        "colab": {
          "base_uri": "https://localhost:8080/",
          "height": 431
        },
        "outputId": "1edd5f6b-83d0-4cd0-91be-cc9984086607"
      },
      "source": [
        "import datetime as dt\n",
        "df[\"Date\"] = df.index\n",
        "df['Date']=pd.to_datetime(df.Date,format='%Y-%m-%d')\n",
        "df['Date']= df['Date'].map(dt.datetime.toordinal)\n",
        "df"
      ],
      "execution_count": null,
      "outputs": [
        {
          "output_type": "execute_result",
          "data": {
            "text/html": [
              "<div>\n",
              "<style scoped>\n",
              "    .dataframe tbody tr th:only-of-type {\n",
              "        vertical-align: middle;\n",
              "    }\n",
              "\n",
              "    .dataframe tbody tr th {\n",
              "        vertical-align: top;\n",
              "    }\n",
              "\n",
              "    .dataframe thead th {\n",
              "        text-align: right;\n",
              "    }\n",
              "</style>\n",
              "<table border=\"1\" class=\"dataframe\">\n",
              "  <thead>\n",
              "    <tr style=\"text-align: right;\">\n",
              "      <th></th>\n",
              "      <th>High</th>\n",
              "      <th>Low</th>\n",
              "      <th>Open</th>\n",
              "      <th>Close</th>\n",
              "      <th>Volume</th>\n",
              "      <th>Adj Close</th>\n",
              "      <th>Date</th>\n",
              "    </tr>\n",
              "    <tr>\n",
              "      <th>Date</th>\n",
              "      <th></th>\n",
              "      <th></th>\n",
              "      <th></th>\n",
              "      <th></th>\n",
              "      <th></th>\n",
              "      <th></th>\n",
              "      <th></th>\n",
              "    </tr>\n",
              "  </thead>\n",
              "  <tbody>\n",
              "    <tr>\n",
              "      <th>2007-09-17</th>\n",
              "      <td>4549.049805</td>\n",
              "      <td>4482.850098</td>\n",
              "      <td>4518.450195</td>\n",
              "      <td>4494.649902</td>\n",
              "      <td>0.0</td>\n",
              "      <td>4494.649902</td>\n",
              "      <td>732936</td>\n",
              "    </tr>\n",
              "    <tr>\n",
              "      <th>2007-09-18</th>\n",
              "      <td>4551.799805</td>\n",
              "      <td>4481.549805</td>\n",
              "      <td>4494.100098</td>\n",
              "      <td>4546.200195</td>\n",
              "      <td>0.0</td>\n",
              "      <td>4546.200195</td>\n",
              "      <td>732937</td>\n",
              "    </tr>\n",
              "    <tr>\n",
              "      <th>2007-09-19</th>\n",
              "      <td>4739.000000</td>\n",
              "      <td>4550.250000</td>\n",
              "      <td>4550.250000</td>\n",
              "      <td>4732.350098</td>\n",
              "      <td>0.0</td>\n",
              "      <td>4732.350098</td>\n",
              "      <td>732938</td>\n",
              "    </tr>\n",
              "    <tr>\n",
              "      <th>2007-09-20</th>\n",
              "      <td>4760.850098</td>\n",
              "      <td>4721.149902</td>\n",
              "      <td>4734.850098</td>\n",
              "      <td>4747.549805</td>\n",
              "      <td>0.0</td>\n",
              "      <td>4747.549805</td>\n",
              "      <td>732939</td>\n",
              "    </tr>\n",
              "    <tr>\n",
              "      <th>2007-09-21</th>\n",
              "      <td>4855.700195</td>\n",
              "      <td>4733.700195</td>\n",
              "      <td>4752.950195</td>\n",
              "      <td>4837.549805</td>\n",
              "      <td>0.0</td>\n",
              "      <td>4837.549805</td>\n",
              "      <td>732940</td>\n",
              "    </tr>\n",
              "    <tr>\n",
              "      <th>...</th>\n",
              "      <td>...</td>\n",
              "      <td>...</td>\n",
              "      <td>...</td>\n",
              "      <td>...</td>\n",
              "      <td>...</td>\n",
              "      <td>...</td>\n",
              "      <td>...</td>\n",
              "    </tr>\n",
              "    <tr>\n",
              "      <th>2020-07-10</th>\n",
              "      <td>10819.400391</td>\n",
              "      <td>10713.000000</td>\n",
              "      <td>10764.099609</td>\n",
              "      <td>10768.049805</td>\n",
              "      <td>590700.0</td>\n",
              "      <td>10768.049805</td>\n",
              "      <td>737616</td>\n",
              "    </tr>\n",
              "    <tr>\n",
              "      <th>2020-07-13</th>\n",
              "      <td>10894.049805</td>\n",
              "      <td>10756.049805</td>\n",
              "      <td>10851.849609</td>\n",
              "      <td>10802.700195</td>\n",
              "      <td>554100.0</td>\n",
              "      <td>10802.700195</td>\n",
              "      <td>737619</td>\n",
              "    </tr>\n",
              "    <tr>\n",
              "      <th>2020-07-14</th>\n",
              "      <td>10755.650391</td>\n",
              "      <td>10562.900391</td>\n",
              "      <td>10750.849609</td>\n",
              "      <td>10607.349609</td>\n",
              "      <td>532400.0</td>\n",
              "      <td>10607.349609</td>\n",
              "      <td>737620</td>\n",
              "    </tr>\n",
              "    <tr>\n",
              "      <th>2020-07-15</th>\n",
              "      <td>10827.450195</td>\n",
              "      <td>10577.750000</td>\n",
              "      <td>10701.000000</td>\n",
              "      <td>10618.200195</td>\n",
              "      <td>715900.0</td>\n",
              "      <td>10618.200195</td>\n",
              "      <td>737621</td>\n",
              "    </tr>\n",
              "    <tr>\n",
              "      <th>2020-07-16</th>\n",
              "      <td>10755.299805</td>\n",
              "      <td>10595.200195</td>\n",
              "      <td>10706.200195</td>\n",
              "      <td>10739.950195</td>\n",
              "      <td>694400.0</td>\n",
              "      <td>10739.950195</td>\n",
              "      <td>737622</td>\n",
              "    </tr>\n",
              "  </tbody>\n",
              "</table>\n",
              "<p>3132 rows × 7 columns</p>\n",
              "</div>"
            ],
            "text/plain": [
              "                    High           Low  ...     Adj Close    Date\n",
              "Date                                    ...                      \n",
              "2007-09-17   4549.049805   4482.850098  ...   4494.649902  732936\n",
              "2007-09-18   4551.799805   4481.549805  ...   4546.200195  732937\n",
              "2007-09-19   4739.000000   4550.250000  ...   4732.350098  732938\n",
              "2007-09-20   4760.850098   4721.149902  ...   4747.549805  732939\n",
              "2007-09-21   4855.700195   4733.700195  ...   4837.549805  732940\n",
              "...                  ...           ...  ...           ...     ...\n",
              "2020-07-10  10819.400391  10713.000000  ...  10768.049805  737616\n",
              "2020-07-13  10894.049805  10756.049805  ...  10802.700195  737619\n",
              "2020-07-14  10755.650391  10562.900391  ...  10607.349609  737620\n",
              "2020-07-15  10827.450195  10577.750000  ...  10618.200195  737621\n",
              "2020-07-16  10755.299805  10595.200195  ...  10739.950195  737622\n",
              "\n",
              "[3132 rows x 7 columns]"
            ]
          },
          "metadata": {
            "tags": []
          },
          "execution_count": 67
        }
      ]
    },
    {
      "cell_type": "code",
      "metadata": {
        "id": "P-LH0VeFSvkO",
        "colab": {
          "base_uri": "https://localhost:8080/",
          "height": 431
        },
        "outputId": "72e22f44-9843-48d9-85c2-dca6ee000033"
      },
      "source": [
        "X = df.filter(['Date'])\n",
        "X"
      ],
      "execution_count": null,
      "outputs": [
        {
          "output_type": "execute_result",
          "data": {
            "text/html": [
              "<div>\n",
              "<style scoped>\n",
              "    .dataframe tbody tr th:only-of-type {\n",
              "        vertical-align: middle;\n",
              "    }\n",
              "\n",
              "    .dataframe tbody tr th {\n",
              "        vertical-align: top;\n",
              "    }\n",
              "\n",
              "    .dataframe thead th {\n",
              "        text-align: right;\n",
              "    }\n",
              "</style>\n",
              "<table border=\"1\" class=\"dataframe\">\n",
              "  <thead>\n",
              "    <tr style=\"text-align: right;\">\n",
              "      <th></th>\n",
              "      <th>Date</th>\n",
              "    </tr>\n",
              "    <tr>\n",
              "      <th>Date</th>\n",
              "      <th></th>\n",
              "    </tr>\n",
              "  </thead>\n",
              "  <tbody>\n",
              "    <tr>\n",
              "      <th>2007-09-17</th>\n",
              "      <td>732936</td>\n",
              "    </tr>\n",
              "    <tr>\n",
              "      <th>2007-09-18</th>\n",
              "      <td>732937</td>\n",
              "    </tr>\n",
              "    <tr>\n",
              "      <th>2007-09-19</th>\n",
              "      <td>732938</td>\n",
              "    </tr>\n",
              "    <tr>\n",
              "      <th>2007-09-20</th>\n",
              "      <td>732939</td>\n",
              "    </tr>\n",
              "    <tr>\n",
              "      <th>2007-09-21</th>\n",
              "      <td>732940</td>\n",
              "    </tr>\n",
              "    <tr>\n",
              "      <th>...</th>\n",
              "      <td>...</td>\n",
              "    </tr>\n",
              "    <tr>\n",
              "      <th>2020-07-10</th>\n",
              "      <td>737616</td>\n",
              "    </tr>\n",
              "    <tr>\n",
              "      <th>2020-07-13</th>\n",
              "      <td>737619</td>\n",
              "    </tr>\n",
              "    <tr>\n",
              "      <th>2020-07-14</th>\n",
              "      <td>737620</td>\n",
              "    </tr>\n",
              "    <tr>\n",
              "      <th>2020-07-15</th>\n",
              "      <td>737621</td>\n",
              "    </tr>\n",
              "    <tr>\n",
              "      <th>2020-07-16</th>\n",
              "      <td>737622</td>\n",
              "    </tr>\n",
              "  </tbody>\n",
              "</table>\n",
              "<p>3132 rows × 1 columns</p>\n",
              "</div>"
            ],
            "text/plain": [
              "              Date\n",
              "Date              \n",
              "2007-09-17  732936\n",
              "2007-09-18  732937\n",
              "2007-09-19  732938\n",
              "2007-09-20  732939\n",
              "2007-09-21  732940\n",
              "...            ...\n",
              "2020-07-10  737616\n",
              "2020-07-13  737619\n",
              "2020-07-14  737620\n",
              "2020-07-15  737621\n",
              "2020-07-16  737622\n",
              "\n",
              "[3132 rows x 1 columns]"
            ]
          },
          "metadata": {
            "tags": []
          },
          "execution_count": 87
        }
      ]
    },
    {
      "cell_type": "code",
      "metadata": {
        "id": "yxiJ0NoTRdxP"
      },
      "source": [
        "from sklearn.model_selection import train_test_split\n",
        "X_train, X_test, Y_train, Y_test = train_test_split(X, data, test_size = 0.2, random_state = 1) "
      ],
      "execution_count": null,
      "outputs": []
    },
    {
      "cell_type": "code",
      "metadata": {
        "id": "PAOMDndKTo_s"
      },
      "source": [
        "from sklearn.linear_model import LinearRegression\n",
        "linr = LinearRegression();\n",
        "linr.fit(X_train, Y_train);"
      ],
      "execution_count": null,
      "outputs": []
    },
    {
      "cell_type": "code",
      "metadata": {
        "id": "_Ffhe6weT7O_"
      },
      "source": [
        "predictions = linr.predict(X_test)"
      ],
      "execution_count": null,
      "outputs": []
    },
    {
      "cell_type": "code",
      "metadata": {
        "id": "dNYkjtZbn4CX",
        "colab": {
          "base_uri": "https://localhost:8080/",
          "height": 50
        },
        "outputId": "3450f540-1d41-47a4-88f3-9e86643babec"
      },
      "source": [
        "rmse=np.sqrt(np.mean(((predictions-Y_test)**2)))\n",
        "rmse"
      ],
      "execution_count": null,
      "outputs": [
        {
          "output_type": "execute_result",
          "data": {
            "text/plain": [
              "Close    899.562375\n",
              "dtype: float64"
            ]
          },
          "metadata": {
            "tags": []
          },
          "execution_count": 96
        }
      ]
    }
  ]
}